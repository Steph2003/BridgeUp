{
 "cells": [
  {
   "cell_type": "code",
   "execution_count": 1,
   "metadata": {
    "collapsed": true
   },
   "outputs": [],
   "source": [
    "import matplotlib.pyplot as plt\n",
    "import numpy as np\n",
    "import csv"
   ]
  },
  {
   "cell_type": "code",
   "execution_count": 2,
   "metadata": {
    "collapsed": true
   },
   "outputs": [],
   "source": [
    "csvFile = open(\"sea_temp_anom_Dec_2002.csv\", 'r') \n",
    "csvReader = csv.reader(csvFile, delimiter=',')\n",
    "data_lists = list(csvReader)"
   ]
  },
  {
   "cell_type": "code",
   "execution_count": 3,
   "metadata": {
    "collapsed": false
   },
   "outputs": [
    {
     "name": "stdout",
     "output_type": "stream",
     "text": [
      "['99998.0', '99998.0', '99998.0', '99998.0', '99998.0', '99998.0', '99998.0', '99998.0', '99998.0', '99998.0', '99998.0', '99998.0', '99998.0', '99998.0', '99998.0', '99998.0', '99998.0', '99998.0', '99998.0', '99998.0', '99998.0', '99998.0', '99998.0', '99998.0', '99998.0', '99998.0', '99998.0', '99998.0', '99998.0', '99998.0', '99998.0', '99998.0', '99998.0', '99998.0', '99998.0', '99998.0', '99998.0', '99998.0', '99998.0', '99998.0', '99998.0', '99998.0', '99998.0', '99998.0', '99998.0', '99998.0', '99998.0', '99998.0', '99998.0', '99998.0', '99998.0', '99998.0', '99998.0', '99998.0', '99998.0', '99998.0', '99998.0', '99998.0', '99998.0', '99998.0', '99998.0', '99998.0', '99998.0', '99998.0', '99998.0', '99998.0', '99998.0', '99998.0', '99998.0', '99998.0', '99998.0', '99998.0', '99998.0', '99998.0', '99998.0', '99998.0', '99998.0', '99998.0', '99998.0', '99998.0', '99998.0', '99998.0', '99998.0', '99998.0', '99998.0', '99998.0', '99998.0', '99998.0', '99998.0', '99998.0', '99998.0', '99998.0', '99998.0', '99998.0', '99998.0', '99998.0', '99998.0', '99998.0', '99998.0', '99998.0', '99998.0', '99998.0', '99998.0', '99998.0', '99998.0', '99998.0', '99998.0', '99998.0', '99998.0', '99998.0', '99998.0', '99998.0', '99998.0', '99998.0', '99998.0', '99998.0', '99998.0', '99998.0', '99998.0', '99998.0', '99998.0', '99998.0', '99998.0', '99998.0', '99998.0', '99998.0', '99998.0', '99998.0', '99998.0', '99998.0', '99998.0', '99998.0', '99998.0', '99998.0', '99998.0', '99998.0', '99998.0', '99998.0', '99998.0', '99998.0', '99998.0', '99998.0', '99998.0', '99998.0', '99998.0', '99998.0', '99998.0', '99998.0', '99998.0', '99998.0', '99998.0', '99998.0', '99998.0', '99998.0', '99998.0', '99998.0', '99998.0', '99998.0', '99998.0', '99998.0', '99998.0', '99998.0', '99998.0', '99998.0', '99998.0', '99998.0', '99998.0', '99998.0', '99998.0', '99998.0', '99998.0', '99998.0', '99998.0', '99998.0', '99998.0', '99998.0', '99998.0', '99998.0', '99998.0', '99998.0', '99998.0', '99998.0', '99998.0', '99998.0', '99998.0', '99998.0', '99998.0', '99998.0', '99998.0', '99998.0', '99998.0', '99998.0', '99998.0', '99998.0', '99998.0', '99998.0', '99998.0', '99998.0', '99998.0', '99998.0', '99998.0', '99998.0', '99998.0', '99998.0', '99998.0', '99998.0', '99998.0', '99998.0', '99998.0', '99998.0', '99998.0', '99998.0', '99998.0', '99998.0', '99998.0', '99998.0', '99998.0', '99998.0', '99998.0', '99998.0', '99998.0', '99998.0', '99998.0', '99998.0', '99998.0', '99998.0', '99998.0', '99998.0', '99998.0', '99998.0', '99998.0', '99998.0', '99998.0', '99998.0', '99998.0', '99998.0', '99998.0', '99998.0', '99998.0', '99998.0', '99998.0', '99998.0', '99998.0', '99998.0', '99998.0', '99998.0', '99998.0', '99998.0', '99998.0', '99998.0', '99998.0', '99998.0', '99998.0', '99998.0', '99998.0', '99998.0', '99998.0', '99998.0', '99998.0', '99998.0', '99998.0', '99998.0', '99998.0', '99998.0', '99998.0', '99998.0', '99998.0', '99998.0', '99998.0', '99998.0', '99998.0', '99998.0', '99998.0', '99998.0', '99998.0', '99998.0', '99998.0', '99998.0', '99998.0', '99998.0', '99998.0', '99998.0', '99998.0', '99998.0', '99998.0', '99998.0', '99998.0', '99998.0', '99998.0', '99998.0', '99998.0', '99998.0', '99998.0', '99998.0', '99998.0', '99998.0', '99998.0', '99998.0', '99998.0', '99998.0', '99998.0', '99998.0', '99998.0', '99998.0', '99998.0', '99998.0', '99998.0', '99998.0', '99998.0', '99998.0', '99998.0', '99998.0', '99998.0', '99998.0', '99998.0', '99998.0', '99998.0', '99998.0', '99998.0', '99998.0', '99998.0', '99998.0', '99998.0', '99998.0', '99998.0', '99998.0', '99998.0', '99998.0', '99998.0', '99998.0', '99998.0', '99998.0', '99998.0', '99998.0', '99998.0', '99998.0', '99998.0', '99998.0', '99998.0', '99998.0', '99998.0', '99998.0', '99998.0', '99998.0', '99998.0', '99998.0', '99998.0', '99998.0', '99998.0', '99998.0', '99998.0', '99998.0', '99998.0', '99998.0', '99998.0', '99998.0', '99998.0', '99998.0', '99998.0', '99998.0', '99998.0', '99998.0', '99998.0', '99998.0', '99998.0', '99998.0', '99998.0', '99998.0', '99998.0', '99998.0', '99998.0', '99998.0', '99998.0', '99998.0', '99998.0', '99998.0', '99998.0', '99998.0', '99998.0', '99998.0', '99998.0', '99998.0', '99998.0', '99998.0', '99998.0', '99998.0', '99998.0', '99998.0', '99998.0', '99998.0', '99998.0', '99998.0', '99998.0', '99998.0', '99998.0', '99998.0', '99998.0', '99998.0', '99998.0', '99998.0', '99998.0', '99998.0', '99998.0', '99998.0', '99998.0', '99998.0', '99998.0', '99998.0', '99998.0', '99998.0', '99998.0', '99998.0', '99998.0', '99998.0', '99998.0', '99998.0', '99998.0', '99998.0', '99998.0', '99998.0', '99998.0', '99998.0', '99998.0', '99998.0', '99998.0', '99998.0', '99998.0', '99998.0', '99998.0', '99998.0', '99998.0', '99998.0', '99998.0', '99998.0', '99998.0', '99998.0', '99998.0', '99998.0', '99998.0', '99998.0', '99998.0', '99998.0', '99998.0', '99998.0', '99998.0', '99998.0', '99998.0', '99998.0', '99998.0', '99998.0', '99998.0', '99998.0', '99998.0', '99998.0', '99998.0', '99998.0', '99998.0', '99998.0', '99998.0', '99998.0', '99998.0', '99998.0', '99998.0', '99998.0', '99998.0', '99998.0', '99998.0', '99998.0', '99998.0', '99998.0', '99998.0', '99998.0', '99998.0', '99998.0', '99998.0', '99998.0', '99998.0', '99998.0', '99998.0', '99998.0', '99998.0', '99998.0', '99998.0', '99998.0', '99998.0', '99998.0', '99998.0', '99998.0', '99998.0', '99998.0', '99998.0', '99998.0', '99998.0', '99998.0', '99998.0', '99998.0', '99998.0', '99998.0', '99998.0', '99998.0', '99998.0', '99998.0', '99998.0', '99998.0', '99998.0', '99998.0', '99998.0', '99998.0', '99998.0', '99998.0', '99998.0', '99998.0', '99998.0', '99998.0', '99998.0', '99998.0', '99998.0', '99998.0', '99998.0', '99998.0', '99998.0', '99998.0', '99998.0', '99998.0', '99998.0', '99998.0', '99998.0', '99998.0', '99998.0', '99998.0', '99998.0', '99998.0', '99998.0', '99998.0', '99998.0', '99998.0', '99998.0', '99998.0', '99998.0', '99998.0', '99998.0', '99998.0', '99998.0', '99998.0', '99998.0', '99998.0', '99998.0', '99998.0', '99998.0', '99998.0', '99998.0', '99998.0', '99998.0', '99998.0', '99998.0', '99998.0', '99998.0', '99998.0', '99998.0', '99998.0', '99998.0', '99998.0', '99998.0', '99998.0', '99998.0', '99998.0', '99998.0', '99998.0', '99998.0', '99998.0', '99998.0', '99998.0', '99998.0', '99998.0', '99998.0', '99998.0', '99998.0', '99998.0', '99998.0', '99998.0', '99998.0', '99998.0', '99998.0', '99998.0', '99998.0', '99998.0', '99998.0', '99998.0', '99998.0', '99998.0', '99998.0', '99998.0', '99998.0', '99998.0', '99998.0', '99998.0', '99998.0', '99998.0', '99998.0', '99998.0', '99998.0', '99998.0', '99998.0', '99998.0', '99998.0', '99998.0', '99998.0', '99998.0', '99998.0', '99998.0', '99998.0', '99998.0', '99998.0', '99998.0', '99998.0', '99998.0', '99998.0', '99998.0', '99998.0', '99998.0', '99998.0', '99998.0', '99998.0', '99998.0', '99998.0', '99998.0', '99998.0', '99998.0', '99998.0', '99998.0', '99998.0', '99998.0', '99998.0', '99998.0', '99998.0', '99998.0', '99998.0', '99998.0', '99998.0', '99998.0', '99998.0', '99998.0', '99998.0', '99998.0', '99998.0', '99998.0', '99998.0', '99998.0', '99998.0', '99998.0', '99998.0', '99998.0', '99998.0', '99998.0', '99998.0', '99998.0', '99998.0', '99998.0', '99998.0', '99998.0', '99998.0', '99998.0', '99998.0', '99998.0', '99998.0', '99998.0', '99998.0', '99998.0', '99998.0', '99998.0', '99998.0', '99998.0', '99998.0', '99998.0', '99998.0', '99998.0', '99998.0', '99998.0', '99998.0', '99998.0', '99998.0', '99998.0', '99998.0', '99998.0', '99998.0', '99998.0', '99998.0', '99998.0', '99998.0', '99998.0', '99998.0', '99998.0', '99998.0', '99998.0', '99998.0', '99998.0', '99998.0', '99998.0', '99998.0', '99998.0', '99998.0', '99998.0', '99998.0', '99998.0', '99998.0', '99998.0', '99998.0', '99998.0', '99998.0', '99998.0', '99998.0', '99998.0', '99998.0', '99998.0', '99998.0', '99998.0', '99998.0', '99998.0', '99998.0', '99998.0']\n"
     ]
    }
   ],
   "source": [
    "print(data_lists[0])"
   ]
  },
  {
   "cell_type": "code",
   "execution_count": 4,
   "metadata": {
    "collapsed": false
   },
   "outputs": [
    {
     "name": "stdout",
     "output_type": "stream",
     "text": [
      "720\n"
     ]
    }
   ],
   "source": [
    "print(len(data_lists[0]))"
   ]
  },
  {
   "cell_type": "code",
   "execution_count": 5,
   "metadata": {
    "collapsed": true
   },
   "outputs": [],
   "source": [
    "width=len(data_lists[0])\n",
    "height=len(data_lists)"
   ]
  },
  {
   "cell_type": "code",
   "execution_count": 6,
   "metadata": {
    "collapsed": false
   },
   "outputs": [],
   "source": [
    "grid = np.empty([height, width, 3], dtype=np.uint8)"
   ]
  },
  {
   "cell_type": "code",
   "execution_count": 7,
   "metadata": {
    "collapsed": false
   },
   "outputs": [],
   "source": [
    "all_values = []\n",
    "\n",
    "for r, row in enumerate(data_lists):\n",
    "    for c, value in enumerate(row):\n",
    "        if float(value) < 99999:\n",
    "            all_values.append(float(value)) # This is where we fill in the list with all data values\n",
    "        if float(value) <= -10:\n",
    "            grid[r, c] = [42, 84, 140]\n",
    "        elif float(value) <= -5:\n",
    "            grid[r, c] = [15, 125, 221]\n",
    "        elif float(value) <= 0:\n",
    "            grid[r, c] = [2, 190, 242]\n",
    "        elif float(value) <= 2:\n",
    "            grid[r, c] = [1, 213, 241]\n",
    "        elif float(value) <= 5:\n",
    "            grid[r, c] = [0, 244, 216]\n",
    "        elif float(value) <= 10:\n",
    "            grid[r, c] = [244, 235, 0]\n",
    "        else:\n",
    "            grid[r, c] = [140, 74, 4]"
   ]
  },
  {
   "cell_type": "code",
   "execution_count": 8,
   "metadata": {
    "collapsed": false
   },
   "outputs": [
    {
     "name": "stdout",
     "output_type": "stream",
     "text": [
      "-5.0\n",
      "99998.0\n"
     ]
    }
   ],
   "source": [
    "print(min(all_values))\n",
    "print(max(all_values))"
   ]
  },
  {
   "cell_type": "code",
   "execution_count": 9,
   "metadata": {
    "collapsed": false
   },
   "outputs": [
    {
     "data": {
      "image/png": "[encoded data removed]",
      "text/plain": [
       "<matplotlib.figure.Figure at 0x119878b38>"
      ]
     },
     "metadata": {},
     "output_type": "display_data"
    }
   ],
   "source": [
    "plt.title(\"Global sea temperature in Celsius\")\n",
    "plt.imshow(grid)\n",
    "plt.axis('off')\n",
    "plt.savefig(\"Land_temperature.png\",dpi = 1000)\n",
    "plt.show()"
   ]
  },
  {
   "cell_type": "code",
   "execution_count": 10,
   "metadata": {
    "collapsed": true
   },
   "outputs": [],
   "source": [
    "csvFile = open(\"sea_temp_anom_Sep_2011.csv\", 'r') \n",
    "csvReader = csv.reader(csvFile, delimiter=',')\n",
    "data_lists = list(csvReader)"
   ]
  },
  {
   "cell_type": "code",
   "execution_count": 11,
   "metadata": {
    "collapsed": false
   },
   "outputs": [
    {
     "name": "stdout",
     "output_type": "stream",
     "text": [
      "['99998.0', '99998.0', '99998.0', '99998.0', '99998.0', '99998.0', '99998.0', '99998.0', '99998.0', '99998.0', '99998.0', '99998.0', '99998.0', '99998.0', '99998.0', '99998.0', '99998.0', '99998.0', '99998.0', '99998.0', '99998.0', '99998.0', '99998.0', '99998.0', '99998.0', '99998.0', '99998.0', '99998.0', '99998.0', '99998.0', '99998.0', '99998.0', '99998.0', '99998.0', '99998.0', '99998.0', '99998.0', '99998.0', '99998.0', '99998.0', '99998.0', '99998.0', '99998.0', '99998.0', '99998.0', '99998.0', '99998.0', '99998.0', '99998.0', '99998.0', '99998.0', '99998.0', '99998.0', '99998.0', '99998.0', '99998.0', '99998.0', '99998.0', '99998.0', '99998.0', '99998.0', '99998.0', '99998.0', '99998.0', '99998.0', '99998.0', '99998.0', '99998.0', '99998.0', '99998.0', '99998.0', '99998.0', '99998.0', '99998.0', '99998.0', '99998.0', '99998.0', '99998.0', '99998.0', '99998.0', '99998.0', '99998.0', '99998.0', '99998.0', '99998.0', '99998.0', '99998.0', '99998.0', '99998.0', '99998.0', '99998.0', '99998.0', '99998.0', '99998.0', '99998.0', '99998.0', '99998.0', '99998.0', '99998.0', '99998.0', '99998.0', '99998.0', '99998.0', '99998.0', '99998.0', '99998.0', '99998.0', '99998.0', '99998.0', '99998.0', '99998.0', '99998.0', '99998.0', '99998.0', '99998.0', '99998.0', '99998.0', '99998.0', '99998.0', '99998.0', '99998.0', '99998.0', '99998.0', '99998.0', '99998.0', '99998.0', '99998.0', '99998.0', '99998.0', '99998.0', '99998.0', '99998.0', '99998.0', '99998.0', '99998.0', '99998.0', '99998.0', '99998.0', '99998.0', '99998.0', '99998.0', '99998.0', '99998.0', '99998.0', '99998.0', '99998.0', '99998.0', '99998.0', '99998.0', '99998.0', '99998.0', '99998.0', '99998.0', '99998.0', '99998.0', '99998.0', '99998.0', '99998.0', '99998.0', '99998.0', '99998.0', '99998.0', '99998.0', '99998.0', '99998.0', '99998.0', '99998.0', '99998.0', '99998.0', '99998.0', '99998.0', '99998.0', '99998.0', '99998.0', '99998.0', '99998.0', '99998.0', '99998.0', '99998.0', '99998.0', '99998.0', '99998.0', '99998.0', '99998.0', '99998.0', '99998.0', '99998.0', '99998.0', '99998.0', '99998.0', '99998.0', '99998.0', '99998.0', '99998.0', '99998.0', '99998.0', '99998.0', '99998.0', '99998.0', '99998.0', '99998.0', '99998.0', '99998.0', '99998.0', '99998.0', '99998.0', '99998.0', '99998.0', '99998.0', '99998.0', '99998.0', '99998.0', '99998.0', '99998.0', '99998.0', '99998.0', '99998.0', '99998.0', '99998.0', '99998.0', '99998.0', '99998.0', '99998.0', '99998.0', '99998.0', '99998.0', '99998.0', '99998.0', '99998.0', '99998.0', '99998.0', '99998.0', '99998.0', '99998.0', '99998.0', '99998.0', '99998.0', '99998.0', '99998.0', '99998.0', '99998.0', '99998.0', '99998.0', '99998.0', '99998.0', '99998.0', '99998.0', '99998.0', '99998.0', '99998.0', '99998.0', '99998.0', '99998.0', '99998.0', '99998.0', '99998.0', '99998.0', '99998.0', '99998.0', '99998.0', '99998.0', '99998.0', '99998.0', '99998.0', '99998.0', '99998.0', '99998.0', '99998.0', '99998.0', '99998.0', '99998.0', '99998.0', '99998.0', '99998.0', '99998.0', '99998.0', '99998.0', '99998.0', '99998.0', '99998.0', '99998.0', '99998.0', '99998.0', '99998.0', '99998.0', '99998.0', '99998.0', '99998.0', '99998.0', '99998.0', '99998.0', '99998.0', '99998.0', '99998.0', '99998.0', '99998.0', '99998.0', '99998.0', '99998.0', '99998.0', '99998.0', '99998.0', '99998.0', '99998.0', '99998.0', '99998.0', '99998.0', '99998.0', '99998.0', '99998.0', '99998.0', '99998.0', '99998.0', '99998.0', '99998.0', '99998.0', '99998.0', '99998.0', '99998.0', '99998.0', '99998.0', '99998.0', '99998.0', '99998.0', '99998.0', '99998.0', '99998.0', '99998.0', '99998.0', '99998.0', '99998.0', '99998.0', '99998.0', '99998.0', '99998.0', '99998.0', '99998.0', '99998.0', '99998.0', '99998.0', '99998.0', '99998.0', '99998.0', '99998.0', '99998.0', '99998.0', '99998.0', '99998.0', '99998.0', '99998.0', '99998.0', '99998.0', '99998.0', '99998.0', '99998.0', '99998.0', '99998.0', '99998.0', '99998.0', '99998.0', '99998.0', '99998.0', '99998.0', '99998.0', '99998.0', '99998.0', '99998.0', '99998.0', '99998.0', '99998.0', '99998.0', '99998.0', '99998.0', '99998.0', '99998.0', '99998.0', '99998.0', '99998.0', '99998.0', '99998.0', '99998.0', '99998.0', '99998.0', '99998.0', '99998.0', '99998.0', '99998.0', '99998.0', '99998.0', '99998.0', '99998.0', '99998.0', '99998.0', '99998.0', '99998.0', '99998.0', '99998.0', '99998.0', '99998.0', '99998.0', '99998.0', '99998.0', '99998.0', '99998.0', '99998.0', '99998.0', '99998.0', '99998.0', '99998.0', '99998.0', '99998.0', '99998.0', '99998.0', '99998.0', '99998.0', '99998.0', '99998.0', '99998.0', '99998.0', '99998.0', '99998.0', '99998.0', '99998.0', '99998.0', '99998.0', '99998.0', '99998.0', '99998.0', '99998.0', '99998.0', '99998.0', '99998.0', '99998.0', '99998.0', '99998.0', '99998.0', '99998.0', '99998.0', '99998.0', '99998.0', '99998.0', '99998.0', '99998.0', '99998.0', '99998.0', '99998.0', '99998.0', '99998.0', '99998.0', '99998.0', '99998.0', '99998.0', '99998.0', '99998.0', '99998.0', '99998.0', '99998.0', '99998.0', '99998.0', '99998.0', '99998.0', '99998.0', '99998.0', '99998.0', '99998.0', '99998.0', '99998.0', '99998.0', '99998.0', '99998.0', '99998.0', '99998.0', '99998.0', '99998.0', '99998.0', '99998.0', '99998.0', '99998.0', '99998.0', '99998.0', '99998.0', '99998.0', '99998.0', '99998.0', '99998.0', '99998.0', '99998.0', '99998.0', '99998.0', '99998.0', '99998.0', '99998.0', '99998.0', '99998.0', '99998.0', '99998.0', '99998.0', '99998.0', '99998.0', '99998.0', '99998.0', '99998.0', '99998.0', '99998.0', '99998.0', '99998.0', '99998.0', '99998.0', '99998.0', '99998.0', '99998.0', '99998.0', '99998.0', '99998.0', '99998.0', '99998.0', '99998.0', '99998.0', '99998.0', '99998.0', '99998.0', '99998.0', '99998.0', '99998.0', '99998.0', '99998.0', '99998.0', '99998.0', '99998.0', '99998.0', '99998.0', '99998.0', '99998.0', '99998.0', '99998.0', '99998.0', '99998.0', '99998.0', '99998.0', '99998.0', '99998.0', '99998.0', '99998.0', '99998.0', '99998.0', '99998.0', '99998.0', '99998.0', '99998.0', '99998.0', '99998.0', '99998.0', '99998.0', '99998.0', '99998.0', '99998.0', '99998.0', '99998.0', '99998.0', '99998.0', '99998.0', '99998.0', '99998.0', '99998.0', '99998.0', '99998.0', '99998.0', '99998.0', '99998.0', '99998.0', '99998.0', '99998.0', '99998.0', '99998.0', '99998.0', '99998.0', '99998.0', '99998.0', '99998.0', '99998.0', '99998.0', '99998.0', '99998.0', '99998.0', '99998.0', '99998.0', '99998.0', '99998.0', '99998.0', '99998.0', '99998.0', '99998.0', '99998.0', '99998.0', '99998.0', '99998.0', '99998.0', '99998.0', '99998.0', '99998.0', '99998.0', '99998.0', '99998.0', '99998.0', '99998.0', '99998.0', '99998.0', '99998.0', '99998.0', '99998.0', '99998.0', '99998.0', '99998.0', '99998.0', '99998.0', '99998.0', '99998.0', '99998.0', '99998.0', '99998.0', '99998.0', '99998.0', '99998.0', '99998.0', '99998.0', '99998.0', '99998.0', '99998.0', '99998.0', '99998.0', '99998.0', '99998.0', '99998.0', '99998.0', '99998.0', '99998.0', '99998.0', '99998.0', '99998.0', '99998.0', '99998.0', '99998.0', '99998.0', '99998.0', '99998.0', '99998.0', '99998.0', '99998.0', '99998.0', '99998.0', '99998.0', '99998.0', '99998.0', '99998.0', '99998.0', '99998.0', '99998.0', '99998.0', '99998.0', '99998.0', '99998.0', '99998.0', '99998.0', '99998.0', '99998.0', '99998.0', '99998.0', '99998.0', '99998.0', '99998.0', '99998.0', '99998.0', '99998.0', '99998.0', '99998.0', '99998.0', '99998.0', '99998.0', '99998.0', '99998.0', '99998.0', '99998.0', '99998.0', '99998.0', '99998.0', '99998.0', '99998.0', '99998.0', '99998.0', '99998.0', '99998.0', '99998.0', '99998.0', '99998.0', '99998.0', '99998.0', '99998.0', '99998.0', '99998.0', '99998.0', '99998.0', '99998.0', '99998.0', '99998.0', '99998.0', '99998.0', '99998.0', '99998.0', '99998.0', '99998.0', '99998.0', '99998.0', '99998.0', '99998.0', '99998.0', '99998.0', '99998.0', '99998.0', '99998.0', '99998.0']\n"
     ]
    }
   ],
   "source": [
    "print(data_lists[0])"
   ]
  },
  {
   "cell_type": "code",
   "execution_count": 12,
   "metadata": {
    "collapsed": false
   },
   "outputs": [
    {
     "name": "stdout",
     "output_type": "stream",
     "text": [
      "720\n"
     ]
    }
   ],
   "source": [
    "print(len(data_lists[0]))"
   ]
  },
  {
   "cell_type": "code",
   "execution_count": 13,
   "metadata": {
    "collapsed": true
   },
   "outputs": [],
   "source": [
    "width=len(data_lists[0])\n",
    "height=len(data_lists)"
   ]
  },
  {
   "cell_type": "code",
   "execution_count": 14,
   "metadata": {
    "collapsed": true
   },
   "outputs": [],
   "source": [
    "grid = np.empty([height, width, 3], dtype=np.uint8)"
   ]
  },
  {
   "cell_type": "code",
   "execution_count": 15,
   "metadata": {
    "collapsed": true
   },
   "outputs": [],
   "source": [
    "all_valuesII = []\n",
    "\n",
    "for r, row in enumerate(data_lists):\n",
    "    for c, value in enumerate(row):\n",
    "        if float(value) < 99999:\n",
    "            all_values.append(float(value)) # This is where we fill in the list with all data values\n",
    "        if float(value) <= -10:\n",
    "            grid[r, c] = [42, 84, 140]\n",
    "        elif float(value) <= -5:\n",
    "            grid[r, c] = [15, 125, 221]\n",
    "        elif float(value) <= 0:\n",
    "            grid[r, c] = [2, 190, 242]\n",
    "        elif float(value) <= 2:\n",
    "            grid[r, c] = [1, 213, 241]\n",
    "        elif float(value) <= 5:\n",
    "            grid[r, c] = [0, 244, 216]\n",
    "        elif float(value) <= 10:\n",
    "            grid[r, c] = [244, 235, 0]\n",
    "        else:\n",
    "            grid[r, c] = [140, 74, 4]"
   ]
  },
  {
   "cell_type": "code",
   "execution_count": 16,
   "metadata": {
    "collapsed": false
   },
   "outputs": [
    {
     "name": "stdout",
     "output_type": "stream",
     "text": [
      "-5.0\n",
      "99998.0\n"
     ]
    }
   ],
   "source": [
    "print(min(all_values))\n",
    "print(max(all_values))"
   ]
  },
  {
   "cell_type": "code",
   "execution_count": 17,
   "metadata": {
    "collapsed": false
   },
   "outputs": [
    {
     "data": {
      "image/png": "[encoded data removed]",
      "text/plain": [
       "<matplotlib.figure.Figure at 0x11985ce10>"
      ]
     },
     "metadata": {},
     "output_type": "display_data"
    }
   ],
   "source": [
    "plt.title(\"Global sea temperature in Celsius\")\n",
    "plt.imshow(grid)\n",
    "plt.axis('off')\n",
    "plt.savefig(\"Land_temperature.png\",dpi = 1000)\n",
    "plt.show()"
   ]
  },
  {
   "cell_type": "code",
   "execution_count": 18,
   "metadata": {
    "collapsed": true
   },
   "outputs": [],
   "source": [
    "import matplotlib.pyplot as plt\n",
    "import pandas as pd"
   ]
  },
  {
   "cell_type": "code",
   "execution_count": 19,
   "metadata": {
    "collapsed": true
   },
   "outputs": [],
   "source": [
    "df = pd.read_csv(\"Annual_change_seaLevel.csv\")"
   ]
  },
  {
   "cell_type": "code",
   "execution_count": 20,
   "metadata": {
    "collapsed": false
   },
   "outputs": [
    {
     "data": {
      "text/html": [
       "<div>\n",
       "<style>\n",
       "    .dataframe thead tr:only-child th {\n",
       "        text-align: right;\n",
       "    }\n",
       "\n",
       "    .dataframe thead th {\n",
       "        text-align: left;\n",
       "    }\n",
       "\n",
       "    .dataframe tbody tr th {\n",
       "        vertical-align: top;\n",
       "    }\n",
       "</style>\n",
       "<table border=\"1\" class=\"dataframe\">\n",
       "  <thead>\n",
       "    <tr style=\"text-align: right;\">\n",
       "      <th></th>\n",
       "      <th>Year</th>\n",
       "      <th>Change in mean sea level (mm)</th>\n",
       "    </tr>\n",
       "  </thead>\n",
       "  <tbody>\n",
       "    <tr>\n",
       "      <th>0</th>\n",
       "      <td>1992</td>\n",
       "      <td>-17.250000</td>\n",
       "    </tr>\n",
       "    <tr>\n",
       "      <th>1</th>\n",
       "      <td>1993</td>\n",
       "      <td>-17.179412</td>\n",
       "    </tr>\n",
       "    <tr>\n",
       "      <th>2</th>\n",
       "      <td>1994</td>\n",
       "      <td>-13.576471</td>\n",
       "    </tr>\n",
       "    <tr>\n",
       "      <th>3</th>\n",
       "      <td>1995</td>\n",
       "      <td>-9.090508</td>\n",
       "    </tr>\n",
       "    <tr>\n",
       "      <th>4</th>\n",
       "      <td>1996</td>\n",
       "      <td>-6.532533</td>\n",
       "    </tr>\n",
       "  </tbody>\n",
       "</table>\n",
       "</div>"
      ],
      "text/plain": [
       "   Year  Change in mean sea level (mm)\n",
       "0  1992                     -17.250000\n",
       "1  1993                     -17.179412\n",
       "2  1994                     -13.576471\n",
       "3  1995                      -9.090508\n",
       "4  1996                      -6.532533"
      ]
     },
     "execution_count": 20,
     "metadata": {},
     "output_type": "execute_result"
    }
   ],
   "source": [
    "df.head()"
   ]
  },
  {
   "cell_type": "code",
   "execution_count": 21,
   "metadata": {
    "collapsed": false
   },
   "outputs": [],
   "source": [
    "years=df[\"Year\"]\n",
    "change=df[\"Change in mean sea level (mm)\"]"
   ]
  },
  {
   "cell_type": "code",
   "execution_count": 22,
   "metadata": {
    "collapsed": false
   },
   "outputs": [
    {
     "name": "stdout",
     "output_type": "stream",
     "text": [
      "2018\n",
      "0   -17.250000\n",
      "1   -17.179412\n",
      "2   -13.576471\n",
      "3    -9.090508\n",
      "4    -6.532533\n",
      "Name: Change in mean sea level (mm), dtype: float64\n"
     ]
    }
   ],
   "source": [
    "print(years.max())\n",
    "print((change.head()))"
   ]
  },
  {
   "cell_type": "code",
   "execution_count": 23,
   "metadata": {
    "collapsed": false
   },
   "outputs": [
    {
     "data": {
      "image/png": "[encoded data removed]",
      "text/plain": [
       "<matplotlib.figure.Figure at 0x12824fef0>"
      ]
     },
     "metadata": {},
     "output_type": "display_data"
    }
   ],
   "source": [
    "plt.plot(years, change, color=\"blue\")\n",
    "plt.title(\"Sea Level\")\n",
    "plt.ylabel(\"Change in mean sea level (mm)\")\n",
    "plt.xlim(1992,1996 )\n",
    "plt.xticks(range(1992, 2018,2 ))\n",
    "\n",
    "plt.savefig(\"my_fig.png\")\n",
    "plt.show()"
   ]
  },
  {
   "cell_type": "code",
   "execution_count": 24,
   "metadata": {
    "collapsed": false
   },
   "outputs": [],
   "source": [
    "df2 = pd.read_csv(\"Annual_sea_temp_anomaly.csv\")"
   ]
  },
  {
   "cell_type": "code",
   "execution_count": 25,
   "metadata": {
    "collapsed": false
   },
   "outputs": [
    {
     "data": {
      "text/html": [
       "<div>\n",
       "<style>\n",
       "    .dataframe thead tr:only-child th {\n",
       "        text-align: right;\n",
       "    }\n",
       "\n",
       "    .dataframe thead th {\n",
       "        text-align: left;\n",
       "    }\n",
       "\n",
       "    .dataframe tbody tr th {\n",
       "        vertical-align: top;\n",
       "    }\n",
       "</style>\n",
       "<table border=\"1\" class=\"dataframe\">\n",
       "  <thead>\n",
       "    <tr style=\"text-align: right;\">\n",
       "      <th></th>\n",
       "      <th>Year</th>\n",
       "      <th>Average sea temperature anomaly</th>\n",
       "    </tr>\n",
       "  </thead>\n",
       "  <tbody>\n",
       "    <tr>\n",
       "      <th>0</th>\n",
       "      <td>1870</td>\n",
       "      <td>-0.502668</td>\n",
       "    </tr>\n",
       "    <tr>\n",
       "      <th>1</th>\n",
       "      <td>1871</td>\n",
       "      <td>-0.490561</td>\n",
       "    </tr>\n",
       "    <tr>\n",
       "      <th>2</th>\n",
       "      <td>1872</td>\n",
       "      <td>-0.475923</td>\n",
       "    </tr>\n",
       "    <tr>\n",
       "      <th>3</th>\n",
       "      <td>1873</td>\n",
       "      <td>-0.517649</td>\n",
       "    </tr>\n",
       "    <tr>\n",
       "      <th>4</th>\n",
       "      <td>1874</td>\n",
       "      <td>-0.595945</td>\n",
       "    </tr>\n",
       "  </tbody>\n",
       "</table>\n",
       "</div>"
      ],
      "text/plain": [
       "   Year  Average sea temperature anomaly\n",
       "0  1870                        -0.502668\n",
       "1  1871                        -0.490561\n",
       "2  1872                        -0.475923\n",
       "3  1873                        -0.517649\n",
       "4  1874                        -0.595945"
      ]
     },
     "execution_count": 25,
     "metadata": {},
     "output_type": "execute_result"
    }
   ],
   "source": [
    "df2.head()"
   ]
  },
  {
   "cell_type": "code",
   "execution_count": 26,
   "metadata": {
    "collapsed": true
   },
   "outputs": [],
   "source": [
    "years2=df2[\"Year\"]\n",
    "Ave=df2[\"Average sea temperature anomaly\"]"
   ]
  },
  {
   "cell_type": "code",
   "execution_count": 27,
   "metadata": {
    "collapsed": false
   },
   "outputs": [
    {
     "name": "stdout",
     "output_type": "stream",
     "text": [
      "2014\n",
      "0   -0.502668\n",
      "1   -0.490561\n",
      "2   -0.475923\n",
      "3   -0.517649\n",
      "4   -0.595945\n",
      "Name: Average sea temperature anomaly, dtype: float64\n"
     ]
    }
   ],
   "source": [
    "print(years2.max())\n",
    "print((Ave.head()))"
   ]
  },
  {
   "cell_type": "code",
   "execution_count": 28,
   "metadata": {
    "collapsed": false
   },
   "outputs": [
    {
     "data": {
      "image/png": "[encoded data removed]",
      "text/plain": [
       "<matplotlib.figure.Figure at 0x1282c6588>"
      ]
     },
     "metadata": {},
     "output_type": "display_data"
    }
   ],
   "source": [
    "plt.clf()\n",
    "plt.bar(years2, Ave,width=0.9,color = \"red\")\n",
    "\n",
    "plt.title(\"Average Sea Temperature Anomaly \")\n",
    "plt.xlabel(\"Year\")\n",
    "plt.ylabel(\"Temperature\")\n",
    "\n",
    "plt.show()"
   ]
  },
  {
   "cell_type": "code",
   "execution_count": 29,
   "metadata": {
    "collapsed": false
   },
   "outputs": [
    {
     "name": "stdout",
     "output_type": "stream",
     "text": [
      "145\n",
      "145\n",
      "27\n",
      "27\n"
     ]
    }
   ],
   "source": [
    "print(len(years2))\n",
    "print(len(Ave))\n",
    "print(len(change))\n",
    "print(len(years))"
   ]
  },
  {
   "cell_type": "code",
   "execution_count": 30,
   "metadata": {
    "collapsed": false,
    "scrolled": true
   },
   "outputs": [
    {
     "data": {
      "image/png": "[encoded data removed]",
      "text/plain": [
       "<matplotlib.figure.Figure at 0x1286803c8>"
      ]
     },
     "metadata": {},
     "output_type": "display_data"
    }
   ],
   "source": [
    "plt.plot(years2,Ave, color = \"blue\")\n",
    "plt.xlabel(\"Year\")\n",
    "plt.ylabel(\"Temperature(C)\")\n",
    "plt.legend()\n",
    "plt.twinx()\n",
    "plt.plot(years,change, color = \"red\")\n",
    "plt.legend(loc = \"lower left\")\n",
    "plt.ylabel(\"change in sea level(mm)\")\n",
    "plt.title(\"Sea Temp and Level\")\n",
    "\n",
    "\n",
    "plt.show()"
   ]
  },
  {
   "cell_type": "code",
   "execution_count": null,
   "metadata": {
    "collapsed": true
   },
   "outputs": [],
   "source": []
  },
  {
   "cell_type": "code",
   "execution_count": null,
   "metadata": {
    "collapsed": true
   },
   "outputs": [],
   "source": []
  },
  {
   "cell_type": "code",
   "execution_count": null,
   "metadata": {
    "collapsed": true
   },
   "outputs": [],
   "source": []
  }
 ],
 "metadata": {
  "kernelspec": {
   "display_name": "Python 3",
   "language": "python",
   "name": "python3"
  },
  "language_info": {
   "codemirror_mode": {
    "name": "ipython",
    "version": 3
   },
   "file_extension": ".py",
   "mimetype": "text/x-python",
   "name": "python",
   "nbconvert_exporter": "python",
   "pygments_lexer": "ipython3",
   "version": "3.5.2"
  }
 },
 "nbformat": 4,
 "nbformat_minor": 2
}
