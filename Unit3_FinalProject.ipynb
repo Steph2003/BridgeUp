{
 "cells": [
  {
   "cell_type": "markdown",
   "metadata": {
    "deletable": true,
    "editable": true
   },
   "source": [
    "# Making a CMD for your Star Cluster\n",
    "\n",
    "This notebook introduces a few commands that you'll need to make the Color Magnitude Diagram for your star cluster. You can also use the cells below to write code for your unit project."
   ]
  },
  {
   "cell_type": "markdown",
   "metadata": {
    "deletable": true,
    "editable": true
   },
   "source": [
    "## .loc[ ] indexing"
   ]
  },
  {
   "cell_type": "code",
   "execution_count": 1,
   "metadata": {
    "collapsed": true,
    "deletable": true,
    "editable": true
   },
   "outputs": [],
   "source": [
    "import pandas as pd"
   ]
  },
  {
   "cell_type": "code",
   "execution_count": 2,
   "metadata": {
    "collapsed": false,
    "deletable": true,
    "editable": true
   },
   "outputs": [
    {
     "data": {
      "text/plain": [
       "639    10.012\n",
       "640     8.943\n",
       "641     9.049\n",
       "642     9.307\n",
       "643     9.364\n",
       "Name: J, dtype: float64"
      ]
     },
     "execution_count": 2,
     "metadata": {},
     "output_type": "execute_result"
    }
   ],
   "source": [
    "# Here we create a sample dataframe\n",
    "stars = pd.read_csv(\"oh_table.csv\")\n",
    "\n",
    "(stars[\"J\"].loc[stars[\"group_id\"] == 6])\n",
    "Jdata = stars[\"J\"].loc[stars[\"group_id\"] == 6]\n",
    "Jdata.head()"
   ]
  },
  {
   "cell_type": "code",
   "execution_count": 3,
   "metadata": {
    "collapsed": false,
    "deletable": true,
    "editable": true
   },
   "outputs": [
    {
     "data": {
      "text/plain": [
       "639    181.036\n",
       "640    185.010\n",
       "641    196.198\n",
       "642    176.077\n",
       "643    197.704\n",
       "Name: distance, dtype: float64"
      ]
     },
     "execution_count": 3,
     "metadata": {},
     "output_type": "execute_result"
    }
   ],
   "source": [
    "distance = stars[\"distance\"].loc[stars[\"group_id\"] == 6]\n",
    "distance.head()"
   ]
  },
  {
   "cell_type": "markdown",
   "metadata": {
    "deletable": true,
    "editable": true
   },
   "source": [
    "You can use the .loc index method to select all the items in one column which have a particular value in the second column. For example, we may want to select all items from column 1 that have a value of 0 in column 2.\n",
    "\n",
    "Run the code below to see how this works."
   ]
  },
  {
   "cell_type": "code",
   "execution_count": 4,
   "metadata": {
    "collapsed": false,
    "deletable": true,
    "editable": true
   },
   "outputs": [
    {
     "data": {
      "text/plain": [
       "639    10.988\n",
       "640     9.640\n",
       "641     9.780\n",
       "642    10.091\n",
       "643    10.221\n",
       "Name: G, dtype: float64"
      ]
     },
     "execution_count": 4,
     "metadata": {},
     "output_type": "execute_result"
    }
   ],
   "source": [
    "Gdata = stars[\"G\"].loc[stars[\"group_id\"] == 6]\n",
    "(stars[\"G\"].loc[stars[\"group_id\"] == 6])\n",
    "Gdata.head()"
   ]
  },
  {
   "cell_type": "markdown",
   "metadata": {
    "deletable": true,
    "editable": true
   },
   "source": [
    "Now you try! Select all the values from column 1 where the value on that same row in column 2 is equal to 1."
   ]
  },
  {
   "cell_type": "markdown",
   "metadata": {
    "deletable": true,
    "editable": true
   },
   "source": [
    "Now select all the values from column 2 where the value on that same row in column 1 is equal to 50."
   ]
  },
  {
   "cell_type": "markdown",
   "metadata": {
    "deletable": true,
    "editable": true
   },
   "source": [
    "#### Note: You can store these selected values in a variable, just like you've done with entire columns!"
   ]
  },
  {
   "cell_type": "markdown",
   "metadata": {
    "deletable": true,
    "editable": true
   },
   "source": [
    "## Finding absolute magnitude"
   ]
  },
  {
   "cell_type": "markdown",
   "metadata": {
    "deletable": true,
    "editable": true
   },
   "source": [
    "You will need to convert \"G\" to absolute magnitude for your CMD.\n",
    "\n",
    "Look in the dataset for distance. Using G and distance, you can calculate absolute magnitude using the following equation:\n",
    "\n",
    "absolute magnitude = G - 5 * log(distance) + 5"
   ]
  },
  {
   "cell_type": "code",
   "execution_count": 5,
   "metadata": {
    "collapsed": false,
    "deletable": true,
    "editable": true
   },
   "outputs": [],
   "source": [
    "# You will need to import numpy\n",
    "import numpy as np\n",
    "import matplotlib.pyplot as plt\n",
    "import matplotlib.colors as mpl"
   ]
  },
  {
   "cell_type": "code",
   "execution_count": 6,
   "metadata": {
    "collapsed": false,
    "deletable": true,
    "editable": true
   },
   "outputs": [
    {
     "data": {
      "text/plain": [
       "639    10.012\n",
       "640     8.943\n",
       "641     9.049\n",
       "642     9.307\n",
       "643     9.364\n",
       "Name: J, dtype: float64"
      ]
     },
     "execution_count": 6,
     "metadata": {},
     "output_type": "execute_result"
    }
   ],
   "source": [
    "stars = pd.read_csv(\"oh_table.csv\")\n",
    "\n",
    "Jdata.head()"
   ]
  },
  {
   "cell_type": "code",
   "execution_count": 7,
   "metadata": {
    "collapsed": false,
    "deletable": true,
    "editable": true
   },
   "outputs": [
    {
     "data": {
      "text/plain": [
       "639    10.988\n",
       "640     9.640\n",
       "641     9.780\n",
       "642    10.091\n",
       "643    10.221\n",
       "Name: G, dtype: float64"
      ]
     },
     "execution_count": 7,
     "metadata": {},
     "output_type": "execute_result"
    }
   ],
   "source": [
    "Gdata.head()"
   ]
  },
  {
   "cell_type": "code",
   "execution_count": 8,
   "metadata": {
    "collapsed": false,
    "deletable": true,
    "editable": true
   },
   "outputs": [
    {
     "data": {
      "text/plain": [
       "639    181.036\n",
       "640    185.010\n",
       "641    196.198\n",
       "642    176.077\n",
       "643    197.704\n",
       "Name: distance, dtype: float64"
      ]
     },
     "execution_count": 8,
     "metadata": {},
     "output_type": "execute_result"
    }
   ],
   "source": [
    "distance.head()"
   ]
  },
  {
   "cell_type": "code",
   "execution_count": 9,
   "metadata": {
    "collapsed": false,
    "deletable": true,
    "editable": true
   },
   "outputs": [
    {
     "data": {
      "text/plain": [
       "639    4.699175\n",
       "640    3.304024\n",
       "641    3.316527\n",
       "642    3.862487\n",
       "643    3.740923\n",
       "dtype: float64"
      ]
     },
     "execution_count": 9,
     "metadata": {},
     "output_type": "execute_result"
    }
   ],
   "source": [
    "# You can use this function in your code to find the log of distance:\n",
    "absolute_magnitude = Gdata - 5 * np.log10(distance) + 5\n",
    "absolute_magnitude.head ()\n",
    "# np.log10()"
   ]
  },
  {
   "cell_type": "code",
   "execution_count": 10,
   "metadata": {
    "collapsed": false,
    "deletable": true,
    "editable": true
   },
   "outputs": [
    {
     "name": "stdout",
     "output_type": "stream",
     "text": [
      "639    0.976\n",
      "640    0.697\n",
      "641    0.731\n",
      "642    0.784\n",
      "643    0.857\n",
      "644    0.612\n",
      "645    0.472\n",
      "646    0.750\n",
      "647    0.807\n",
      "648    0.869\n",
      "649    0.430\n",
      "650    0.654\n",
      "651    0.841\n",
      "652    0.404\n",
      "653    0.783\n",
      "654    0.379\n",
      "655    0.685\n",
      "656    0.373\n",
      "657    0.752\n",
      "658    0.428\n",
      "659    0.560\n",
      "660    0.442\n",
      "661    0.308\n",
      "662    0.332\n",
      "663    1.188\n",
      "664    0.404\n",
      "665    0.566\n",
      "666    0.495\n",
      "667    0.506\n",
      "668    0.553\n",
      "669    0.698\n",
      "670    0.707\n",
      "671    0.739\n",
      "672    1.343\n",
      "673    0.473\n",
      "674    0.665\n",
      "675    0.782\n",
      "676    0.536\n",
      "677    0.707\n",
      "678    0.649\n",
      "679    0.702\n",
      "680    0.988\n",
      "681    0.321\n",
      "682    0.435\n",
      "683    0.724\n",
      "684    0.422\n",
      "685    0.681\n",
      "686    0.545\n",
      "687    0.662\n",
      "688    0.509\n",
      "689    0.678\n",
      "690    0.671\n",
      "691    0.542\n",
      "692    1.021\n",
      "693    0.449\n",
      "694    0.957\n",
      "695    0.944\n",
      "696    0.518\n",
      "dtype: float64\n"
     ]
    }
   ],
   "source": [
    "GJ=(Gdata-Jdata)\n",
    "print(Gdata-Jdata)"
   ]
  },
  {
   "cell_type": "code",
   "execution_count": 11,
   "metadata": {
    "collapsed": false,
    "deletable": true,
    "editable": true
   },
   "outputs": [
    {
     "data": {
      "text/plain": [
       "6.0970000000000004"
      ]
     },
     "execution_count": 11,
     "metadata": {},
     "output_type": "execute_result"
    }
   ],
   "source": [
    "Gdata.min()"
   ]
  },
  {
   "cell_type": "code",
   "execution_count": 12,
   "metadata": {
    "collapsed": false,
    "deletable": true,
    "editable": true
   },
   "outputs": [
    {
     "data": {
      "text/plain": [
       "10.988"
      ]
     },
     "execution_count": 12,
     "metadata": {},
     "output_type": "execute_result"
    }
   ],
   "source": [
    "Gdata.max()"
   ]
  },
  {
   "cell_type": "code",
   "execution_count": 13,
   "metadata": {
    "collapsed": false,
    "deletable": true,
    "editable": true
   },
   "outputs": [
    {
     "data": {
      "text/plain": [
       "4.9089999999999998"
      ]
     },
     "execution_count": 13,
     "metadata": {},
     "output_type": "execute_result"
    }
   ],
   "source": [
    "Jdata.min()"
   ]
  },
  {
   "cell_type": "code",
   "execution_count": 14,
   "metadata": {
    "collapsed": false,
    "deletable": true,
    "editable": true
   },
   "outputs": [
    {
     "data": {
      "text/plain": [
       "10.012"
      ]
     },
     "execution_count": 14,
     "metadata": {},
     "output_type": "execute_result"
    }
   ],
   "source": [
    "Jdata.max()"
   ]
  },
  {
   "cell_type": "markdown",
   "metadata": {
    "deletable": true,
    "editable": true
   },
   "source": [
    "### Your first task is to create a Color Magnitude Diagram for your star cluster\n",
    "You can use as many of the cells below as you need. You can add new cells with the \"+\" button."
   ]
  },
  {
   "cell_type": "code",
   "execution_count": 15,
   "metadata": {
    "collapsed": true,
    "deletable": true,
    "editable": true
   },
   "outputs": [],
   "source": [
    "import matplotlib.pyplot as plt"
   ]
  },
  {
   "cell_type": "code",
   "execution_count": 16,
   "metadata": {
    "collapsed": true,
    "deletable": true,
    "editable": true
   },
   "outputs": [],
   "source": [
    "SunJ = 3.64\n",
    "SunG = 5.12\n",
    "#Use SunG as absolute magnitude"
   ]
  },
  {
   "cell_type": "code",
   "execution_count": 17,
   "metadata": {
    "collapsed": false,
    "deletable": true,
    "editable": true
   },
   "outputs": [
    {
     "data": {
      "image/png": "[encoded data removed]",
      "text/plain": [
       "<matplotlib.figure.Figure at 0x11ae35080>"
      ]
     },
     "metadata": {},
     "output_type": "display_data"
    }
   ],
   "source": [
    "cm = plt.cm.get_cmap(\"plasma\")\n",
    "plt.scatter(GJ, Gdata, c=Gdata, s=35, cmap=cm, norm=mpl.LogNorm())\n",
    "plt.xlabel('G - J')\n",
    "plt.ylabel('G')\n",
    "plt.title('Praesepe Cluster Color Magnitude Diagram')\n",
    "plt.gca().invert_yaxis() \n",
    "plt.savefig(\"praesepe.png\")\n",
    "plt.show()"
   ]
  },
  {
   "cell_type": "code",
   "execution_count": null,
   "metadata": {
    "collapsed": true,
    "deletable": true,
    "editable": true
   },
   "outputs": [],
   "source": []
  },
  {
   "cell_type": "code",
   "execution_count": 23,
   "metadata": {
    "collapsed": false,
    "deletable": true,
    "editable": true
   },
   "outputs": [
    {
     "data": {
      "image/png": "[encoded data removed]",
      "text/plain": [
       "<matplotlib.figure.Figure at 0x11ae5efd0>"
      ]
     },
     "metadata": {},
     "output_type": "display_data"
    }
   ],
   "source": [
    "import matplotlib.colors as mpl \n",
    "cm = plt.cm.get_cmap(\"winter\")\n",
    "plt.scatter(GJ, absolute_magnitude, c=absolute_magnitude, s=35, cmap= cm)\n",
    "plt.scatter(SunGJ, SunG, c='gold', s= 200, marker='o') \n",
    "plt.xlabel('G - J')\n",
    "plt.ylabel('Absolute G Magnitude')\n",
    "plt.title('Praesepe Cluster Color Magnitude Diagram')\n",
    "plt.gca().invert_yaxis() \n",
    "plt.savefig('Praesepe Cluster Color Magnitude Diagram')\n",
    "plt.show()"
   ]
  },
  {
   "cell_type": "code",
   "execution_count": null,
   "metadata": {
    "collapsed": true,
    "deletable": true,
    "editable": true
   },
   "outputs": [],
   "source": []
  },
  {
   "cell_type": "code",
   "execution_count": null,
   "metadata": {
    "collapsed": true,
    "deletable": true,
    "editable": true
   },
   "outputs": [],
   "source": []
  },
  {
   "cell_type": "markdown",
   "metadata": {
    "deletable": true,
    "editable": true
   },
   "source": [
    "### Coding Challenge 1: Add the sun to your color magnitude diagram"
   ]
  },
  {
   "cell_type": "code",
   "execution_count": 18,
   "metadata": {
    "collapsed": false,
    "deletable": true,
    "editable": true
   },
   "outputs": [
    {
     "data": {
      "image/png": "[encoded data removed]",
      "text/plain": [
       "<matplotlib.figure.Figure at 0x11ad93240>"
      ]
     },
     "metadata": {},
     "output_type": "display_data"
    }
   ],
   "source": [
    "#wrong one\n",
    "SunJ = 3.64\n",
    "SunG = 5.12\n",
    "SunGJ=1.48\n",
    "cm = plt.cm.get_cmap(\"plasma\")\n",
    "plt.scatter(GJ, Gdata, c=Gdata, s=35, cmap=cm, norm=mpl.LogNorm())\n",
    "plt.scatter(SunGJ, SunG, c='gold', s= 200, marker='o') \n",
    "plt.xlabel('G - J')\n",
    "plt.ylabel('G')\n",
    "plt.title('Praesepe Cluster Color Magnitude Diagram')\n",
    "plt.gca().invert_yaxis() \n",
    "plt.savefig('Praesepe Cluster Color Magnitude Diagram')\n",
    "plt.show()"
   ]
  },
  {
   "cell_type": "markdown",
   "metadata": {
    "deletable": true,
    "editable": true
   },
   "source": [
    "### Coding Challenge 2: Add a colormap to your diagram"
   ]
  },
  {
   "cell_type": "code",
   "execution_count": 19,
   "metadata": {
    "collapsed": false,
    "deletable": true,
    "editable": true
   },
   "outputs": [
    {
     "data": {
      "image/png": "[encoded data removed]",
      "text/plain": [
       "<matplotlib.figure.Figure at 0x119cf83c8>"
      ]
     },
     "metadata": {},
     "output_type": "display_data"
    }
   ],
   "source": [
    "cm = plt.cm.get_cmap(\"plasma\")\n",
    "plt.scatter(GJ, Gdata, c=Gdata, s=35, cmap=cm, norm=mpl.LogNorm())\n",
    "plt.xlabel('G - J')\n",
    "plt.ylabel('G')\n",
    "plt.title('Praesepe Cluster Color Magnitude Diagram')\n",
    "plt.gca().invert_yaxis() \n",
    "plt.savefig(\"praesepe.png\")\n",
    "#plt.show()\n",
    "\n",
    "\n",
    "plt.title(\"Praesepe Cluster\")\n",
    "plt.savefig(\"Praesepe Cluster\",dpi = 1000)\n",
    "plt.show()"
   ]
  },
  {
   "cell_type": "markdown",
   "metadata": {
    "deletable": true,
    "editable": true
   },
   "source": [
    "### Coding Challenge 3: Create histograms for the absolute magnitude and color of your star cluster"
   ]
  },
  {
   "cell_type": "code",
   "execution_count": 20,
   "metadata": {
    "collapsed": false,
    "deletable": true,
    "editable": true
   },
   "outputs": [
    {
     "data": {
      "image/png": "[encoded data removed]",
      "text/plain": [
       "<matplotlib.figure.Figure at 0x11ad56c88>"
      ]
     },
     "metadata": {},
     "output_type": "display_data"
    }
   ],
   "source": [
    "plt.hist((absolute_magnitude), 10, range = [0,5], color= \"yellow\")\n",
    "\n",
    "# Add a title and axis labels\n",
    "plt.suptitle(\"Absolute Magnitude (G)\")\n",
    "plt.xlabel(\"Absolute Magnitude (G)\")\n",
    "plt.ylabel(\"Number of Stars\")\n",
    "\n",
    "# Show the graph\n",
    "plt.show()"
   ]
  },
  {
   "cell_type": "code",
   "execution_count": null,
   "metadata": {
    "collapsed": true,
    "deletable": true,
    "editable": true
   },
   "outputs": [],
   "source": []
  }
 ],
 "metadata": {
  "kernelspec": {
   "display_name": "Python 3",
   "language": "python",
   "name": "python3"
  },
  "language_info": {
   "codemirror_mode": {
    "name": "ipython",
    "version": 3
   },
   "file_extension": ".py",
   "mimetype": "text/x-python",
   "name": "python",
   "nbconvert_exporter": "python",
   "pygments_lexer": "ipython3",
   "version": "3.5.2"
  }
 },
 "nbformat": 4,
 "nbformat_minor": 2
}
